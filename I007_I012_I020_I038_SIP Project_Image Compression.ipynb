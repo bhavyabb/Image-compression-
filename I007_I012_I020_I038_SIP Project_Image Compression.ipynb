{
 "cells": [
  {
   "cell_type": "markdown",
   "id": "bf152326",
   "metadata": {},
   "source": [
    "# SIP Project"
   ]
  },
  {
   "cell_type": "markdown",
   "id": "5013717b",
   "metadata": {},
   "source": [
    "### Topic: Image Compression\n",
    "### By:\n",
    "### I007 Bhavya Bavishi\n",
    "### I012 Nehaal Choudhary\n",
    "### I020 Aum Ghag\n",
    "### I038 Mohommed Arman Motiwala"
   ]
  },
  {
   "cell_type": "markdown",
   "id": "c075c3d6",
   "metadata": {},
   "source": [
    "### Importing Libraries"
   ]
  },
  {
   "cell_type": "code",
   "execution_count": 1,
   "id": "d2de0006",
   "metadata": {},
   "outputs": [
    {
     "ename": "ModuleNotFoundError",
     "evalue": "No module named 'matplotlib'",
     "output_type": "error",
     "traceback": [
      "\u001b[0;31m---------------------------------------------------------------------------\u001b[0m",
      "\u001b[0;31mModuleNotFoundError\u001b[0m                       Traceback (most recent call last)",
      "Cell \u001b[0;32mIn[1], line 4\u001b[0m\n\u001b[1;32m      2\u001b[0m \u001b[38;5;28;01mimport\u001b[39;00m \u001b[38;5;21;01msys\u001b[39;00m\n\u001b[1;32m      3\u001b[0m np\u001b[38;5;241m.\u001b[39mset_printoptions(threshold\u001b[38;5;241m=\u001b[39msys\u001b[38;5;241m.\u001b[39mmaxsize)\n\u001b[0;32m----> 4\u001b[0m \u001b[38;5;28;01mimport\u001b[39;00m \u001b[38;5;21;01mmatplotlib\u001b[39;00m\u001b[38;5;21;01m.\u001b[39;00m\u001b[38;5;21;01mpyplot\u001b[39;00m \u001b[38;5;28;01mas\u001b[39;00m \u001b[38;5;21;01mplt\u001b[39;00m\n\u001b[1;32m      5\u001b[0m \u001b[38;5;28;01mimport\u001b[39;00m \u001b[38;5;21;01mscipy\u001b[39;00m\n\u001b[1;32m      6\u001b[0m \u001b[38;5;28;01mimport\u001b[39;00m \u001b[38;5;21;01mcv2\u001b[39;00m\n",
      "\u001b[0;31mModuleNotFoundError\u001b[0m: No module named 'matplotlib'"
     ]
    }
   ],
   "source": [
    "import numpy as np\n",
    "import sys\n",
    "np.set_printoptions(threshold=sys.maxsize)\n",
    "import matplotlib.pyplot as plt\n",
    "import scipy\n",
    "import cv2"
   ]
  },
  {
   "cell_type": "code",
   "execution_count": null,
   "id": "ad421a8c",
   "metadata": {},
   "outputs": [],
   "source": [
    "from numpy import pi\n",
    "from numpy import sin\n",
    "from numpy import zeros\n",
    "from numpy import r_\n",
    "from scipy import signal\n",
    "from scipy import misc \n",
    "from scipy import fftpack\n",
    "import math\n",
    "import matplotlib.pylab as pylab\n",
    "np.set_printoptions(precision=3)\n",
    "np.set_printoptions(suppress=True)\n",
    "DEBUG = False"
   ]
  },
  {
   "cell_type": "markdown",
   "id": "fd851af9",
   "metadata": {},
   "source": [
    "### Reading Image as .png"
   ]
  },
  {
   "cell_type": "markdown",
   "id": "f2c868ea",
   "metadata": {},
   "source": [
    "Splitting into Red, Green, Blue channel"
   ]
  },
  {
   "cell_type": "code",
   "execution_count": null,
   "id": "9cee93d1",
   "metadata": {},
   "outputs": [],
   "source": [
    "im = cv2.imread(\"nature.png\",1)\n",
    "b,g,r= cv2.split(im)"
   ]
  },
  {
   "cell_type": "markdown",
   "id": "cf31a954",
   "metadata": {},
   "source": [
    "The discrete cosine transform (DCT) represents an image as a sum of sinusoids of varying magnitudes and frequencies."
   ]
  },
  {
   "cell_type": "markdown",
   "id": "92c54761",
   "metadata": {},
   "source": [
    "Function to find dct of each pixel"
   ]
  },
  {
   "cell_type": "code",
   "execution_count": null,
   "id": "78974141",
   "metadata": {},
   "outputs": [],
   "source": [
    "def dct2(a):\n",
    "    x =  scipy.fftpack.dct(scipy.fftpack.dct(a, axis=0, norm='ortho'), axis=1, norm='ortho' )\n",
    "    return x"
   ]
  },
  {
   "cell_type": "markdown",
   "id": "cb980401",
   "metadata": {},
   "source": [
    "Creating arrays for R, G, B"
   ]
  },
  {
   "cell_type": "code",
   "execution_count": null,
   "id": "5de83a0c",
   "metadata": {},
   "outputs": [],
   "source": [
    "imsize = r.shape\n",
    "dct_r = np.zeros(imsize)\n",
    "dct_g = np.zeros(imsize)\n",
    "dct_b = np.zeros(imsize)"
   ]
  },
  {
   "cell_type": "markdown",
   "id": "d73c8394",
   "metadata": {},
   "source": [
    "Dividing the image into 8X8 matrix and finding dct of each pixel"
   ]
  },
  {
   "cell_type": "code",
   "execution_count": null,
   "id": "18f808ef",
   "metadata": {},
   "outputs": [],
   "source": [
    "for i in r_[:imsize[0]:8]:\n",
    "    for j in r_[:imsize[1]:8]:\n",
    "        dct_r[i:(i+8),j:(j+8)] = dct2(r[i:(i+8),j:(j+8)] )\n",
    "        dct_g[i:(i+8),j:(j+8)] = dct2(g[i:(i+8),j:(j+8)] )\n",
    "        dct_b[i:(i+8),j:(j+8)] = dct2(b[i:(i+8),j:(j+8)] )"
   ]
  },
  {
   "cell_type": "markdown",
   "id": "97ad3c87",
   "metadata": {},
   "source": [
    "### Thresholding"
   ]
  },
  {
   "cell_type": "markdown",
   "id": "e14d33d2",
   "metadata": {},
   "source": [
    "Taking threshold as 0.03"
   ]
  },
  {
   "cell_type": "markdown",
   "id": "620f30bb",
   "metadata": {},
   "source": [
    "Removing numbers less than threshold * max(color plane)"
   ]
  },
  {
   "cell_type": "code",
   "execution_count": null,
   "id": "104ae2b8",
   "metadata": {},
   "outputs": [],
   "source": [
    "thresh = 0.03\n",
    "\n",
    "def thresholding(x):\n",
    "    x =  x * (abs(x) > (thresh*np.max(x)))\n",
    "    return x"
   ]
  },
  {
   "cell_type": "markdown",
   "id": "7bda2c7f",
   "metadata": {},
   "source": [
    "Applying thresholding to each color channel"
   ]
  },
  {
   "cell_type": "code",
   "execution_count": null,
   "id": "64e2052b",
   "metadata": {},
   "outputs": [],
   "source": [
    "dct_r = thresholding(dct_r)\n",
    "dct_b = thresholding(dct_b)\n",
    "dct_g = thresholding(dct_g)"
   ]
  },
  {
   "cell_type": "code",
   "execution_count": null,
   "id": "b5b93464",
   "metadata": {},
   "outputs": [],
   "source": [
    "def run_len():\n",
    "    i,j = 0,0\n",
    "    up = True\n",
    "    while True:\n",
    "        yield (i,j)\n",
    "        if i==j==7:\n",
    "            break\n",
    "        if up:\n",
    "            if i==0 and j!=7:\n",
    "                j+=1\n",
    "                up = False\n",
    "            elif j==7 and i!=7:\n",
    "                i+=1\n",
    "                up = False\n",
    "            elif (j!=7 and i!=0):\n",
    "                i-=1\n",
    "                j+=1     \n",
    "        else:\n",
    "            if j==0 and i!=7:\n",
    "                i+=1\n",
    "                up = True\n",
    "            elif i==7 and j!=7:\n",
    "                j+=1\n",
    "                up = True\n",
    "            elif (j!=0 and i!=7):\n",
    "                j-=1\n",
    "                i+=1\n",
    "    yield 0"
   ]
  },
  {
   "cell_type": "code",
   "execution_count": null,
   "id": "9e6bf81c",
   "metadata": {},
   "outputs": [],
   "source": [
    "def compress_block(x):\n",
    "    gen = run_len()\n",
    "    old = None\n",
    "    cnt=1\n",
    "    # 0 padding on left and bottom\n",
    "    y = np.zeros((8,8))\n",
    "    y[:len(x),:len(x[0])] = x\n",
    "    x = y\n",
    "    # run-len encoding using the index returned by run_len generator.\n",
    "    fin = []\n",
    "    for i in range(8):\n",
    "        for j in range(8):\n",
    "            a,b = next(gen)\n",
    "            num = int(x[a][b])\n",
    "            if old != num:\n",
    "                fin.append((old, cnt))\n",
    "                cnt = 1\n",
    "                old = num\n",
    "            else:\n",
    "                cnt+=1\n",
    "    fin.append((old, cnt))\n",
    "    # Removing the first data as it is initilized with None\n",
    "    return fin[1:]"
   ]
  },
  {
   "cell_type": "code",
   "execution_count": null,
   "id": "e1ec0a77",
   "metadata": {},
   "outputs": [
    {
     "name": "stdout",
     "output_type": "stream",
     "text": [
      "Random 8X8 block\n",
      "\n",
      "[[27 29 30 32 40 49 58 69]\n",
      " [26 27 28 29 34 40 48 56]\n",
      " [21 23 23 24 25 28 31 33]\n",
      " [18 18 19 19 20 22 25 25]\n",
      " [17 17 16 16 17 19 20 19]\n",
      " [17 17 16 15 16 17 18 18]\n",
      " [16 15 15 14 15 15 16 16]\n",
      " [14 14 14 14 14 15 15 15]] \n",
      "\n",
      "DCT of the block which removes high frequency components\n",
      "\n",
      "[[188.5   -31.849  11.98   -2.118  -0.75   -1.183   0.179   0.35 ]\n",
      " [ 70.499 -32.541   9.737  -3.767   0.849  -1.856   0.41   -0.217]\n",
      " [ 27.792 -16.633   5.453  -2.021   1.386  -1.729   0.948  -0.023]\n",
      " [ 11.179  -7.232   3.772   0.402   0.274  -1.159   0.345   0.345]\n",
      " [  0.5    -3.738   0.096   0.571  -0.25    0.107   0.231  -0.256]\n",
      " [ -1.046   0.064  -0.555  -0.068   0.095   0.142   0.107   0.438]\n",
      " [ -1.5     1.66   -1.302   0.108  -0.574  -0.394  -0.203  -0.778]\n",
      " [ -2.208   1.874  -1.141   0.687  -0.266  -0.176  -0.218  -0.503]] \n",
      "\n",
      "DCT after thresholding with thresholding at 0.03\n",
      "\n",
      "[[188.5   -31.849  11.98   -0.     -0.     -0.      0.      0.   ]\n",
      " [ 70.499 -32.541   9.737  -0.      0.     -0.      0.     -0.   ]\n",
      " [ 27.792 -16.633   0.     -0.      0.     -0.      0.     -0.   ]\n",
      " [ 11.179  -7.232   0.      0.      0.     -0.      0.      0.   ]\n",
      " [  0.     -0.      0.      0.     -0.      0.      0.     -0.   ]\n",
      " [ -0.      0.     -0.     -0.      0.      0.      0.      0.   ]\n",
      " [ -0.      0.     -0.      0.     -0.     -0.     -0.     -0.   ]\n",
      " [ -0.      0.     -0.      0.     -0.     -0.     -0.     -0.   ]] \n",
      "\n",
      "Run length coding output for the block\n",
      "[(188, 1), (-31, 1), (70, 1), (27, 1), (-32, 1), (11, 1), (0, 1), (9, 1), (-16, 1), (11, 1), (0, 1), (-7, 1), (0, 52)] \n",
      "\n"
     ]
    }
   ],
   "source": [
    "def print_sample():\n",
    "    print(\"Random 8X8 block\\n\")\n",
    "    x = r[204:212, 204:212]\n",
    "    print(x,'\\n')\n",
    "\n",
    "    print(\"DCT of the block which removes high frequency components\\n\")\n",
    "    x = dct2(x)\n",
    "    print(x,'\\n')\n",
    "\n",
    "    print(\"DCT after thresholding with thresholding at 0.03\\n\")\n",
    "    x = thresholding(x)\n",
    "    print(x,'\\n')\n",
    "\n",
    "    print(\"Run length coding output for the block\")\n",
    "    x = compress_block(x)\n",
    "    print(x,'\\n')\n",
    "# if DEBUG:\n",
    "print_sample()\n",
    "# print(\"Doing run length coding\")"
   ]
  },
  {
   "cell_type": "markdown",
   "id": "b2dbf512",
   "metadata": {},
   "source": [
    "Displaying frequency of each pixel value"
   ]
  },
  {
   "cell_type": "markdown",
   "id": "0f77d4d7",
   "metadata": {},
   "source": [
    "High frequency part of the image is in the lower right part of the image (which has been removed)"
   ]
  },
  {
   "cell_type": "markdown",
   "id": "0fa7f41d",
   "metadata": {},
   "source": [
    "Lower frequency of the image is in the upper left part of the image"
   ]
  },
  {
   "cell_type": "markdown",
   "id": "40df8f4f",
   "metadata": {},
   "source": [
    " "
   ]
  },
  {
   "cell_type": "markdown",
   "id": "e29a405f",
   "metadata": {},
   "source": [
    "Storing compressed values in each color channel"
   ]
  },
  {
   "cell_type": "code",
   "execution_count": null,
   "id": "85eeb61f",
   "metadata": {},
   "outputs": [
    {
     "name": "stdout",
     "output_type": "stream",
     "text": [
      "Run length coding completed\n"
     ]
    }
   ],
   "source": [
    "red = []\n",
    "green = []\n",
    "blue = []\n",
    "for i in r_[:imsize[0]:8]:\n",
    "    r_block = []\n",
    "    g_block = []\n",
    "    b_block = []\n",
    "    for j in r_[:imsize[1]:8]:\n",
    "        r_block.append(compress_block(dct_r[i:(i+8),j:(j+8)]))\n",
    "        g_block.append(compress_block(dct_g[i:(i+8),j:(j+8)]))\n",
    "        b_block.append(compress_block(dct_b[i:(i+8),j:(j+8)]))\n",
    "    red.append(r_block)\n",
    "    green.append(g_block)\n",
    "    blue.append(b_block)\n",
    "    \n",
    "# Converting array to string and removing \"(\", \")\" and space.\n",
    "print(\"Run length coding completed\")\n",
    "\n",
    "if DEBUG:\n",
    "    with open(\"r.txt\",\"w\") as f:\n",
    "        f.write(str(red).replace(\"(\",\"\").replace(\")\",\"\").replace(\" \",\"\"))\n",
    "\n",
    "red = str(red).replace(\"(\",\"\").replace(\")\",\"\").replace(\" \",\"\")\n",
    "green = str(green).replace(\"(\",\"\").replace(\")\",\"\").replace(\" \",\"\")\n",
    "blue = str(blue).replace(\"(\",\"\").replace(\")\",\"\").replace(\" \",\"\")\n"
   ]
  },
  {
   "cell_type": "markdown",
   "id": "410028e3",
   "metadata": {},
   "source": [
    "### Huffman Encoding"
   ]
  },
  {
   "cell_type": "markdown",
   "id": "088de781",
   "metadata": {},
   "source": [
    "Huffman Coding is a Lossless Compression Algorithm which is used in image and video compression."
   ]
  },
  {
   "cell_type": "code",
   "execution_count": null,
   "id": "f3404f24",
   "metadata": {},
   "outputs": [],
   "source": [
    "def compress_channel(channel_data, file_name):\n",
    "\n",
    "    symbol_dict = {}\n",
    "    class node:\n",
    "        def __init__(self, freq, symbol, left=None, right=None):\n",
    "            self.freq = freq\n",
    "            self.symbol = symbol\n",
    "            self.left = left\n",
    "            self.right = right\n",
    "            self.huff = ''\n",
    "\n",
    "    def printNodes(node, val=''):\n",
    "        newVal = val + str(node.huff)\n",
    "        if(node.left):\n",
    "            printNodes(node.left, newVal)\n",
    "        if(node.right):\n",
    "            printNodes(node.right, newVal)\n",
    "        if(not node.left and not node.right):\n",
    "            print(f\"{node.symbol} -> {newVal}\")\n",
    "            symbol_dict[node.symbol] = newVal\n",
    "\n",
    "    unique_char = set(channel_data)\n",
    "    counter = {}\n",
    "    for char in unique_char:\n",
    "        counter[char] = channel_data.count(char)\n",
    "\n",
    "    chars = [i for i in counter]\n",
    "    freq = [counter[i] for i in counter]\n",
    "    nodes = []\n",
    "    total = sum(freq)\n",
    "    for x in range(len(chars)):\n",
    "        nodes.append(node(freq[x], chars[x]))\n",
    "      \n",
    "    while len(nodes) > 1:\n",
    "        nodes = sorted(nodes, key=lambda x: x.freq)\n",
    "        left = nodes[0]\n",
    "        right = nodes[1]\n",
    "        left.huff = 0\n",
    "        right.huff = 1\n",
    "        newNode = node(left.freq+right.freq, left.symbol+right.symbol, left, right)\n",
    "        nodes.remove(left)\n",
    "        nodes.remove(right)\n",
    "        nodes.append(newNode)\n",
    "\n",
    "    printNodes(nodes[0])\n",
    "    temp = [[counter[i],i] for i in counter]\n",
    "    temp.sort(reverse = True)\n",
    "    Rx = sum([len(symbol_dict[i[1]])*(i[0]/total) for ind, i in enumerate(temp)])\n",
    "    print(\"Rx\", Rx)\n",
    "\n",
    "    Hx = sum([(-i[0]/total)*(math.log(i[0]/total,2)) for ind, i in enumerate(temp)])\n",
    "    print(\"Hx\", Hx)\n",
    "    print(\"n\",Hx/Rx*100)\n",
    "    print('\\n\\n')\n",
    "    # Huffman encoding end.\n",
    "\n",
    "    bin_str = \"\"\n",
    "    for i in channel_data:\n",
    "        bin_str += symbol_dict[i]\n",
    "\n",
    "    # May loose the last byte. \n",
    "    # Making multiple of 8\n",
    "    x = len(bin_str)%8\n",
    "    if x!=0:\n",
    "        bin_str += \"0\" * (8 - x)\n",
    "\n",
    "    ch_code = bytes()\n",
    "    for i in range(0, len(bin_str) - 1, 8):\n",
    "        num = int(bin_str[i: i + 8], base=2)\n",
    "        _chr = num.to_bytes(1, 'little')\n",
    "        ch_code += _chr\n",
    "    metadata[file_name] = [symbol_dict, len(ch_code)]\n",
    "    if DEBUG:\n",
    "        with open(file_name,\"wb\") as f:\n",
    "            f.write(ch_code)\n",
    "    return ch_code"
   ]
  },
  {
   "cell_type": "markdown",
   "id": "8c726de4",
   "metadata": {},
   "source": [
    "### Storing file in .xyz format"
   ]
  },
  {
   "cell_type": "code",
   "execution_count": null,
   "id": "bab2923d",
   "metadata": {
    "scrolled": false
   },
   "outputs": [
    {
     "name": "stdout",
     "output_type": "stream",
     "text": [
      "6 -> 000\n",
      "0 -> 001\n",
      "4 -> 01000\n",
      "2 -> 01001\n",
      "7 -> 01010\n",
      "8 -> 01011\n",
      "[ -> 0110\n",
      "] -> 0111\n",
      "- -> 100000\n",
      "9 -> 100001\n",
      "5 -> 10001\n",
      "3 -> 1001\n",
      "1 -> 101\n",
      ", -> 11\n",
      "Rx 3.251547176997048\n",
      "Hx 3.216678003831283\n",
      "n 98.92761287880289\n",
      "\n",
      "\n",
      "\n",
      "6 -> 000\n",
      "0 -> 001\n",
      "4 -> 01000\n",
      "2 -> 01001\n",
      "8 -> 01010\n",
      "7 -> 01011\n",
      "[ -> 0110\n",
      "] -> 0111\n",
      "1 -> 100\n",
      "5 -> 10100\n",
      "- -> 101010\n",
      "9 -> 101011\n",
      "3 -> 1011\n",
      ", -> 11\n",
      "Rx 3.249786971981006\n",
      "Hx 3.215049556979986\n",
      "n 98.9310863973387\n",
      "\n",
      "\n",
      "\n",
      "6 -> 000\n",
      "7 -> 00100\n",
      "8 -> 00101\n",
      "4 -> 00110\n",
      "- -> 001110\n",
      "9 -> 001111\n",
      "0 -> 010\n",
      "5 -> 01100\n",
      "2 -> 01101\n",
      "[ -> 0111\n",
      "] -> 1000\n",
      "3 -> 1001\n",
      "1 -> 101\n",
      ", -> 11\n",
      "Rx 3.2212503495321796\n",
      "Hx 3.1728282841174056\n",
      "n 98.49679285492957\n",
      "\n",
      "\n",
      "\n",
      "metadata\n",
      "{'imsize': (1080, 1920), 'thresh': 0.03, 'red': [{'6': '000', '0': '001', '4': '01000', '2': '01001', '7': '01010', '8': '01011', '[': '0110', ']': '0111', '-': '100000', '9': '100001', '5': '10001', '3': '1001', '1': '101', ',': '11'}, 213444], 'green': [{'6': '000', '0': '001', '4': '01000', '2': '01001', '8': '01010', '7': '01011', '[': '0110', ']': '0111', '1': '100', '5': '10100', '-': '101010', '9': '101011', '3': '1011', ',': '11'}, 209760], 'blue': [{'6': '000', '7': '00100', '8': '00101', '4': '00110', '-': '001110', '9': '001111', '0': '010', '5': '01100', '2': '01101', '[': '0111', ']': '1000', '3': '1001', '1': '101', ',': '11'}, 200158]}\n"
     ]
    }
   ],
   "source": [
    "bytedata = bytes()\n",
    "metadata = {}\n",
    "metadata['imsize'] = imsize\n",
    "metadata['thresh'] = thresh\n",
    "bytedata += compress_channel(red, 'red')\n",
    "bytedata += compress_channel(green, 'green')\n",
    "bytedata += compress_channel(blue, 'blue')\n",
    "\n",
    "print(\"metadata\")\n",
    "print(metadata)\n",
    "\n",
    "bytedata = bytes(str(metadata).replace(\" \",\"\"), \"ascii\") + b'\\x00' +bytedata\n",
    "\n",
    "with open(f\"image_{thresh}.xyz\",\"wb\") as f:\n",
    "    f.write(bytedata)"
   ]
  },
  {
   "cell_type": "markdown",
   "id": "e59ce339",
   "metadata": {},
   "source": [
    "Rx -> Average length of code word"
   ]
  },
  {
   "cell_type": "markdown",
   "id": "ab304bad",
   "metadata": {},
   "source": [
    "Hx -> Entropy"
   ]
  },
  {
   "cell_type": "markdown",
   "id": "daef18dc",
   "metadata": {},
   "source": [
    "n -> Efficiency of Huffman Encoding"
   ]
  },
  {
   "cell_type": "markdown",
   "id": "f1d0d296",
   "metadata": {},
   "source": [
    "Storing the data of the image in metadata to decompress it later"
   ]
  },
  {
   "cell_type": "markdown",
   "id": "5fea4601",
   "metadata": {},
   "source": [
    " "
   ]
  },
  {
   "cell_type": "markdown",
   "id": "20e724be",
   "metadata": {},
   "source": [
    "### Reading Binary File"
   ]
  },
  {
   "cell_type": "code",
   "execution_count": null,
   "id": "08a61351",
   "metadata": {},
   "outputs": [],
   "source": [
    "with open(\"image_0.03.xyz\", \"rb\") as f:\n",
    "    image_data = f.read()\n",
    "\n",
    "for index, char in enumerate(image_data):\n",
    "    if char == 0:\n",
    "        break"
   ]
  },
  {
   "cell_type": "markdown",
   "id": "c14da88c",
   "metadata": {},
   "source": [
    "### Processing Metadata"
   ]
  },
  {
   "cell_type": "code",
   "execution_count": null,
   "id": "0f3cfa12",
   "metadata": {},
   "outputs": [],
   "source": [
    "metadata = image_data[:index]\n",
    "metadata = metadata.decode(\"ascii\")\n",
    "data = eval(metadata)\n",
    "red, green,blue = data['red'], data['green'], data['blue']\n",
    "imsize = data['imsize']\n",
    "thresh = data['thresh']\n",
    "\n",
    "r_data = image_data[index+1: index+1 + red[1]]\n",
    "g_data = image_data[index+1 + red[1]: index+1 + red[1] + green[1]]\n",
    "b_data = image_data[index+1 + red[1] + green[1]: index+1 + red[1] + green[1] + blue[1]]"
   ]
  },
  {
   "cell_type": "markdown",
   "id": "8024920c",
   "metadata": {},
   "source": [
    "### Huffman Decoding with character table"
   ]
  },
  {
   "cell_type": "markdown",
   "id": "6d10491b",
   "metadata": {},
   "source": [
    "Using the variable \"symbol_dict\" (symbol dictionary) obtained from huffman encoding to decode and bring back the original values."
   ]
  },
  {
   "cell_type": "code",
   "execution_count": null,
   "id": "f1db32b8",
   "metadata": {},
   "outputs": [],
   "source": [
    "def huffman_decode(ch_data, symbol_dict):\n",
    "    binary = \"\"\n",
    "    symbol_dict = {symbol_dict[i]: i for i in symbol_dict}\n",
    "    \n",
    "    for i in ch_data:\n",
    "        binary_num   = bin(i)[2:]\n",
    "        binary_num = \"0\"*(8 - len(binary_num))+binary_num\n",
    "        binary +=binary_num\n",
    "    data = \"\"\n",
    "    curr = \"\"\n",
    "    for i in binary:\n",
    "        curr+=i\n",
    "        x = symbol_dict.get(curr,None)\n",
    "        if x:\n",
    "            curr=\"\"\n",
    "            data += x\n",
    "    return data\n",
    "    \n",
    "r_matrix = huffman_decode(r_data, red[0])\n",
    "g_matrix = huffman_decode(g_data, green[0])\n",
    "b_matrix = huffman_decode(b_data, blue[0])\n",
    "\n",
    "# remove garbage value. Values occuring after matrix\n",
    "# ended because of 0 padding of byte.\n",
    "# converts string to matrix \n",
    "r_matrix = eval(r_matrix.split(\"]]]\")[0]+\"]]]\")\n",
    "g_matrix = eval(g_matrix.split(\"]]]\")[0]+\"]]]\")\n",
    "b_matrix = eval(b_matrix.split(\"]]]\")[0]+\"]]]\")"
   ]
  },
  {
   "cell_type": "markdown",
   "id": "fdb0a134",
   "metadata": {},
   "source": [
    "### Decompressing Image"
   ]
  },
  {
   "cell_type": "code",
   "execution_count": null,
   "id": "703adc74",
   "metadata": {},
   "outputs": [],
   "source": [
    "def run_len():\n",
    "    i,j = 0,0\n",
    "    up = True\n",
    "    while True:\n",
    "        yield (i,j)\n",
    "        if i==j==7:\n",
    "            break\n",
    "        if up:\n",
    "            if i==0 and j!=7:\n",
    "                j+=1\n",
    "                up = False\n",
    "            elif j==7 and i!=7:\n",
    "                i+=1\n",
    "                up = False\n",
    "            elif (j!=7 and i!=0):\n",
    "                i-=1\n",
    "                j+=1     \n",
    "        else:\n",
    "            if j==0 and i!=7:\n",
    "                i+=1\n",
    "                up = True\n",
    "            elif i==7 and j!=7:\n",
    "                j+=1\n",
    "                up = True\n",
    "            elif (j!=0 and i!=7):\n",
    "                j-=1\n",
    "                i+=1\n",
    "    yield 0\n"
   ]
  },
  {
   "cell_type": "code",
   "execution_count": null,
   "id": "c7f9b851",
   "metadata": {},
   "outputs": [],
   "source": [
    "def decompress_block(x): \n",
    "    gen = run_len()\n",
    "    index = 0\n",
    "    num = x[0]\n",
    "    max_cnt = x[1]\n",
    "    cnt = 0\n",
    "    y = np.zeros((8,8))\n",
    "\n",
    "    for i in range(8):\n",
    "        for j in range(8):\n",
    "            a,b = next(gen)\n",
    "            y[a][b] = num\n",
    "            cnt+=1\n",
    "            if (cnt == max_cnt and ((i,j) != (7,7))):\n",
    "                cnt=0\n",
    "                index +=2\n",
    "                num = x[index]\n",
    "                max_cnt = x[index + 1]\n",
    "    return y\n"
   ]
  },
  {
   "cell_type": "code",
   "execution_count": null,
   "id": "be2fc2ca",
   "metadata": {},
   "outputs": [],
   "source": [
    "def decode_channel(channel):\n",
    "    fin = []\n",
    "    for ind1, i in enumerate(channel):\n",
    "        x = []\n",
    "        for ind2, j in enumerate(i):\n",
    "            x.append(decompress_block(j))\n",
    "        x = np.concatenate(x, axis = 1)\n",
    "        fin.append(x)\n",
    "    fin = np.concatenate(fin, axis = 0)\n",
    "    # trim extra bits\n",
    "    fin = fin[:imsize[0],:imsize[1]]\n",
    "    return fin\n",
    "\n",
    "# Decompressing matrix with reverse run-length coding\n",
    "r_channel = decode_channel(r_matrix)\n",
    "g_channel = decode_channel(g_matrix)\n",
    "b_channel = decode_channel(b_matrix)\n"
   ]
  },
  {
   "cell_type": "markdown",
   "id": "f202338d",
   "metadata": {},
   "source": [
    "### Taking Inverse Discrete Cosine Transform"
   ]
  },
  {
   "cell_type": "code",
   "execution_count": null,
   "id": "205e389b",
   "metadata": {},
   "outputs": [],
   "source": [
    "def idct2(a):\n",
    "    return fftpack.idct(fftpack.idct( a, axis=0 , norm='ortho'), axis=1 , norm='ortho')"
   ]
  },
  {
   "cell_type": "markdown",
   "id": "a5d0aabd",
   "metadata": {},
   "source": [
    "### Reconstructing Image"
   ]
  },
  {
   "cell_type": "code",
   "execution_count": null,
   "id": "48bb7340",
   "metadata": {},
   "outputs": [
    {
     "data": {
      "text/plain": [
       "True"
      ]
     },
     "execution_count": 31,
     "metadata": {},
     "output_type": "execute_result"
    },
    {
     "data": {
      "image/png": "[encoded data removed]",
      "text/plain": [
       "<Figure size 432x288 with 1 Axes>"
      ]
     },
     "metadata": {
      "needs_background": "light"
     },
     "output_type": "display_data"
    }
   ],
   "source": [
    "for i in r_[:imsize[0]:8]:\n",
    "    for j in r_[:imsize[1]:8]:\n",
    "        r_channel[i:(i+8),j:(j+8)] = idct2( r_channel[i:(i+8),j:(j+8)] )\n",
    "        g_channel[i:(i+8),j:(j+8)] = idct2( g_channel[i:(i+8),j:(j+8)] )\n",
    "        b_channel[i:(i+8),j:(j+8)] = idct2( b_channel[i:(i+8),j:(j+8)] )\n",
    "\n",
    "        \n",
    "# Post processing to keep the pixel values b/w [0,255]    \n",
    "x = cv2.merge((np.array(np.clip(b_channel, 0, 255), dtype= np.uint8),\n",
    "              np.array(np.clip(g_channel, 0, 255), dtype= np.uint8),\n",
    "              np.array(np.clip(r_channel, 0, 255), dtype= np.uint8)))\n",
    "\n",
    "\n",
    "##Display the dct of that block\n",
    "\n",
    "plt.imshow(x, cmap='turbo', vmin=0, vmax=255)\n",
    "plt.axis('off')\n",
    "\n",
    "cv2.imwrite(f'nature_compressed_{thresh}.png', x)"
   ]
  },
  {
   "cell_type": "markdown",
   "id": "ac25318e",
   "metadata": {},
   "source": [
    "### Conclusion:\n",
    "We used Discrete Cosine Transform to compress the image. The original image was of size 2.5 Mb and after running the program, taking the threshold as 0.03, the size of the compressed image reduced to 1.14 Mb."
   ]
  }
 ],
 "metadata": {
  "kernelspec": {
   "display_name": "Python 3",
   "language": "python",
   "name": "python3"
  },
  "language_info": {
   "codemirror_mode": {
    "name": "ipython",
    "version": 3
   },
   "file_extension": ".py",
   "mimetype": "text/x-python",
   "name": "python",
   "nbconvert_exporter": "python",
   "pygments_lexer": "ipython3",
   "version": "3.11.3"
  }
 },
 "nbformat": 4,
 "nbformat_minor": 5
}
